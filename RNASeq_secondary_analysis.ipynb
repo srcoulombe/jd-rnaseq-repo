{
 "cells": [
  {
   "cell_type": "markdown",
   "metadata": {
    "colab_type": "text",
    "id": "eqvbKnwOz0d3"
   },
   "source": [
    "# Running Differential Gene Expression Analyses on RNA-sequencing datasets... On Google Colab!\n",
    "Welcome! This notebook's purpose is to serve as a one-stop-shop to run some standard Differential Gene Expression Analyses (DGEA) using [DESeq2](https://bioconductor.org/packages/release/bioc/html/DESeq2.html) and [edgeR](https://bioconductor.org/packages/release/bioc/html/edgeR.html) **without downloading anything on your computer**! \n",
    "\n",
    "The intuition behind how this works is as follows:\n",
    "\n",
    "1. This is a notebook. Notebooks are useful to document your data exploration and analyses and then share it with other people. \n",
    "\n",
    "2. You can write and save code directly into a notebook, but you can also run code that has been pre-written by yourself/someone else. This notebook uses both of these approaches, but the bulk of the code is pre-written in separate .R and .py files. \n",
    "\n",
    "3. The code in this notebook runs on Google's servers, not on your computer. Each time you launch this notebook, all the software you need to run it is installed **on Google's servers**."
   ]
  },
  {
   "cell_type": "code",
   "execution_count": null,
   "metadata": {
    "colab": {
     "base_uri": "https://localhost:8080/",
     "height": 127
    },
    "colab_type": "code",
    "executionInfo": {
     "elapsed": 4067,
     "status": "ok",
     "timestamp": 1589865731530,
     "user": {
      "displayName": "Samy C.",
      "photoUrl": "https://lh3.googleusercontent.com/a-/AOh14GhoJN5N1smB6E6v9vYr-wctL1CYL-fZbedxFbb71A=s64",
      "userId": "01007907697696759810"
     },
     "user_tz": 240
    },
    "id": "Zvjb5TJU8mtc",
    "outputId": "e9a350bf-bce3-4cce-e0a0-e6ccaff6e8fd"
   },
   "outputs": [],
   "source": [
    "#@title Load pre-written code from Github{display-mode: \"form\"}\n",
    "#@markdown This notebook uses both `R` and `Python` code, and the bulk of it is pre-written.\n",
    "#@markdown Here we simply download that pre-written code on Google's servers so that we can run it in the notebook.\n",
    "\n",
    "#@markdown If you're re-running this chunk of the notebook, you might get the following error message:\n",
    "\n",
    "#@markdown `fatal: destination path 'jd-rnaseq-repo' already exists and is not an empty directory.`\n",
    "\n",
    "#@markdown That's fine, you can ignore that warning message.\n",
    "!git clone https://github.com/srcoulombe/jd-rnaseq-repo.git\n"
   ]
  },
  {
   "cell_type": "code",
   "execution_count": 1,
   "metadata": {
    "colab": {
     "base_uri": "https://localhost:8080/",
     "height": 72
    },
    "colab_type": "code",
    "executionInfo": {
     "elapsed": 9884,
     "status": "ok",
     "timestamp": 1589865816727,
     "user": {
      "displayName": "Samy C.",
      "photoUrl": "https://lh3.googleusercontent.com/a-/AOh14GhoJN5N1smB6E6v9vYr-wctL1CYL-fZbedxFbb71A=s64",
      "userId": "01007907697696759810"
     },
     "user_tz": 240
    },
    "id": "jmTI7hnFEWZJ",
    "outputId": "b7b879bd-f9ce-4997-c188-ac0c41644ab8"
   },
   "outputs": [],
   "source": [
    "#@title Import the `Python` code that we just downloaded from Github{display-mode: \"form\"}\n",
    "#@markdown Here we simply `import` the pre-written `Python` files. \n",
    "from importlib.machinery import SourceFileLoader\n",
    "\n",
    "result_comparison = SourceFileLoader(\"result_comparison\", \"Python_code/result_comparison.py\").load_module()\n",
    "gose = SourceFileLoader(\"gose\", \"Python_code/gene_ontology_statistical_enrichment.py\").load_module()"
   ]
  },
  {
   "cell_type": "code",
   "execution_count": 2,
   "metadata": {
    "colab": {
     "base_uri": "https://localhost:8080/",
     "height": 110
    },
    "colab_type": "code",
    "executionInfo": {
     "elapsed": 907,
     "status": "ok",
     "timestamp": 1589846017826,
     "user": {
      "displayName": "my second google account",
      "photoUrl": "",
      "userId": "09709014596244528854"
     },
     "user_tz": 240
    },
    "id": "ux1idTPQC1WO",
    "outputId": "334fc3d9-03ba-44d3-bc35-dddc26d43300"
   },
   "outputs": [
    {
     "name": "stderr",
     "output_type": "stream",
     "text": [
      "C:\\Users\\Samy\\miniconda3\\lib\\site-packages\\rpy2\\robjects\\pandas2ri.py:17: FutureWarning: pandas.core.index is deprecated and will be removed in a future version.  The public classes are available in the top-level namespace.\n",
      "  from pandas.core.index import Index as PandasIndex\n"
     ]
    }
   ],
   "source": [
    "#@title Load `rpy2` {display-mode: \"form\"}\n",
    "#@markdown This notebook uses both `R` and `Python` code, and the [`rpy2`](https://pypi.org/project/rpy2/) library allows to intermix both languages.\n",
    "#@markdown If you're re-running this chunk of the notebook, you might get the following error message:\n",
    "\n",
    "#@markdown `The rpy2.ipython extension is already loaded. To reload it, use: %reload_ext rpy2.ipython`\n",
    "\n",
    "#@markdown That's fine, you can ignore that warning message.\n",
    "\n",
    "%load_ext rpy2.ipython\n",
    "# https://stackoverflow.com/questions/54595285/how-to-use-r-with-google-colaboratory\n",
    "import warnings\n",
    "warnings.filterwarnings(action='once')\n",
    "\n",
    "import rpy2\n",
    "import rpy2.robjects as ro\n"
   ]
  },
  {
   "cell_type": "code",
   "execution_count": 3,
   "metadata": {
    "colab": {},
    "colab_type": "code",
    "id": "WnNdrgsPKxTm"
   },
   "outputs": [
    {
     "name": "stderr",
     "output_type": "stream",
     "text": [
      "UsageError: Line magic function `%%R` not found.\n"
     ]
    }
   ],
   "source": [
    "#@title Import the `R` code that we just downloaded from Github{display-mode: \"form\"}\n",
    "#@markdown This will download the required `R` packages (e.g. [DESeq2](https://bioconductor.org/packages/release/bioc/html/DESeq2.html) and [edgeR](https://bioconductor.org/packages/release/bioc/html/edgeR.html)) on Google's servers. This might take a while (so now's a good time to get that cup of coffee)...\n",
    "%%R\n",
    "source(\"R_code/all_code.R\")"
   ]
  },
  {
   "cell_type": "code",
   "execution_count": null,
   "metadata": {
    "colab": {
     "base_uri": "https://localhost:8080/",
     "height": 95,
     "resources": {
      "http://localhost:8080/nbextensions/google.colab/files.js": {
       "data": "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",
       "headers": [
        [
         "content-type",
         "application/javascript"
        ]
       ],
       "ok": true,
       "status": 200,
       "status_text": "OK"
      }
     }
    },
    "colab_type": "code",
    "executionInfo": {
     "elapsed": 26232,
     "status": "ok",
     "timestamp": 1589845106152,
     "user": {
      "displayName": "my second google account",
      "photoUrl": "",
      "userId": "09709014596244528854"
     },
     "user_tz": 240
    },
    "id": "r4KCf8NcGkYE",
    "outputId": "3dad3991-faa6-40e4-ae98-a6d3180ab691"
   },
   "outputs": [],
   "source": [
    "#@title Uploading the read-count matrix file {display-mode: \"form\"}\n",
    "#@markdown Now we need to upload the read-count matrix file we'll be working with to Google's servers (in order to read into its contents)!\n",
    "\n",
    "from google.colab import files\n",
    "\n",
    "uploaded = files.upload()\n",
    "\n",
    "for fn in uploaded.keys():\n",
    "  print('User uploaded file \"{name}\" with length {length} bytes'.format(\n",
    "      name=fn, length=len(uploaded[fn])))"
   ]
  },
  {
   "cell_type": "code",
   "execution_count": null,
   "metadata": {
    "cellView": "form",
    "colab": {
     "base_uri": "https://localhost:8080/",
     "height": 94
    },
    "colab_type": "code",
    "executionInfo": {
     "elapsed": 711,
     "status": "ok",
     "timestamp": 1589846043679,
     "user": {
      "displayName": "my second google account",
      "photoUrl": "",
      "userId": "09709014596244528854"
     },
     "user_tz": 240
    },
    "id": "2Ci5jZAGLta1",
    "outputId": "b3fd3778-9de4-4ac0-cc50-dbc0ef480ff5"
   },
   "outputs": [],
   "source": [
    "import os\n",
    "#@title Choosing parameters\n",
    "#@markdown #Choosing parameters\n",
    "#@markdown Enter the name (including the extension) of the read-count matrix file (e.g. mymatrix.csv):\n",
    "file_path = \"/content/QIAseqUltraplexRNA_90846_relabelled_alphaordered.csv\" #@param {type:\"string\"}\n",
    "#@markdown ---\n",
    "try:\n",
    "  assert os.path.isfile(file_path)\n",
    "except AssertionError as file_not_found:\n",
    "  error_message = \"\\n\".join([\n",
    "    \"[x] Couldn't find the file named:\",\n",
    "    file_path,\n",
    "    \"Are you sure you've written the right file path?\",\n",
    "    \"Hint: you can navigate to the file's location with the Google Colab's `Files` explorer, and right-click on the correct file to copy its `path` and paste it here.\"\n",
    "  ])\n",
    "  raise FileNotFoundError(error_message) from file_not_found\n",
    "else:\n",
    "  print(f\"[✓] File {file_path} has been found!\")\n",
    "\n",
    "#@markdown Choose the false discovery rate (FDR)\n",
    "fdr = 0.1 #@param {type:\"slider\", min:0.0, max:1.0, step:0.01}\n",
    "\n",
    "#@markdown Choose the statistic to use for independent filtering\n",
    "chosen_filter = 'mean' #@param [\"mean\", \"min\", \"max\", \"median\"]\n",
    "\n",
    "\n",
    "#@markdown Enter the file name prefix you want to use to identify your output files\n",
    "prefix = \"atest\" #@param {type:\"string\"}\n",
    "\n",
    "#@markdown ---\n",
    "try:\n",
    "  files_with_prefix = [\n",
    "    pre_existing_file for pre_existing_file \n",
    "    in os.listdir() if prefix in pre_existing_file                     \n",
    "  ]\n",
    "  assert files_with_prefix == []\n",
    "except AssertionError as prefix_conflict:\n",
    "  error_message = \"\\n\".join([\n",
    "    f\"[x] Files with the prefix {prefix} already exist:\",\n",
    "    \"\\t\"+'\\n\\t'.join(files_with_prefix),\n",
    "    \"Please choose another prefix.\"\n",
    "  ])\n",
    "  raise FileExistsError(error_message) from prefix_conflict\n",
    "else:\n",
    "  print(f\"[✓] Prefix {prefix} is a valid prefix!\")\n",
    "\n",
    "# adding variables to R session\n",
    "ro.r('counts.matrix.filepath=\"'+file_path+'\"')\n",
    "ro.r('fdr='+f\"{fdr}\")\n",
    "ro.r('chosen_filter=\"'+chosen_filter+'\"')\n",
    "ro.r('prefix=\"'+prefix+'\"')\n"
   ]
  },
  {
   "cell_type": "code",
   "execution_count": null,
   "metadata": {
    "cellView": "form",
    "colab": {
     "base_uri": "https://localhost:8080/",
     "height": 298
    },
    "colab_type": "code",
    "executionInfo": {
     "elapsed": 953,
     "status": "ok",
     "timestamp": 1589846049040,
     "user": {
      "displayName": "my second google account",
      "photoUrl": "",
      "userId": "09709014596244528854"
     },
     "user_tz": 240
    },
    "id": "Pih-oF7LQmr7",
    "outputId": "df50027e-869e-4dab-a5bb-b3c6c110a77f"
   },
   "outputs": [],
   "source": [
    "from pprint import pprint, pformat\n",
    "import pandas as pd\n",
    "df = pd.read_csv(file_path)\n",
    "#@markdown Choose the columns to keep\n",
    "keep_columns = [ 'RA_RepB', 'RA_RepC', 'siGFP_RepA', 'siGFP_RepB', 'siGFP_RepC', 'siM1_RepA', 'siM1_RepB', 'siM1_RepC', 'siNC_RepA', 'siNC_RepB', 'siNC_RepC'] #@param {type:\"raw\"}\n",
    "for column_name in keep_columns:\n",
    "  try:\n",
    "    assert column_name in df.columns\n",
    "  except AssertionError as column_not_found:\n",
    "    error_message = \"\\n\".join([\n",
    "      f\"The specified column: {column_name}\",\n",
    "      \"was not found in the input file's columns.\",\n",
    "      \"The valid column names are:\",\n",
    "      pformat(df.columns)\n",
    "    ])\n",
    "    raise ValueError(error_message) from column_not_found\n",
    "  else:\n",
    "    print(f\"[✓] Found the {column_name} column\")\n",
    "\n",
    "formatted_keep_columns = \",\".join([\n",
    "  f'\"{column}\"' for column in keep_columns\n",
    "])\n",
    "print(formatted_keep_columns)\n",
    "ro.r('keep_columns=c('+formatted_keep_columns+')')"
   ]
  },
  {
   "cell_type": "code",
   "execution_count": null,
   "metadata": {
    "cellView": "form",
    "colab": {},
    "colab_type": "code",
    "id": "PDkT-6rVSTOn"
   },
   "outputs": [],
   "source": [
    "#@markdown #Reading the read-count matrix and visualizing the retained samples' read count distributions\n",
    "%%R\n",
    "raw.counts.data <- rawCountsMatrix_to_dataframe(\n",
    "  counts.matrix.filepath,\n",
    "  keep_columns=keep_columns,\n",
    "  make_histogram=TRUE, make_boxplot=TRUE,\n",
    "  make_ensembl_to_symbol = FALSE,\n",
    "  sep = ',',\n",
    "  verbose=TRUE\n",
    ")\n",
    "\n",
    "sample.data <- data.frame(\n",
    "  condition=raw.counts.data$conditions,\n",
    "  row.names=colnames(raw.counts.data$raw.data)\n",
    ")\n",
    "\n",
    "colnames(sample.data) <- c(\"condition\")\n",
    "\n",
    "contrasts <- design.pairs(unique(sample.data$condition))"
   ]
  },
  {
   "cell_type": "markdown",
   "metadata": {
    "colab_type": "text",
    "id": "5S6yusro2IQH"
   },
   "source": [
    "# DGEA with DESeq2\n"
   ]
  },
  {
   "cell_type": "code",
   "execution_count": null,
   "metadata": {
    "cellView": "form",
    "colab": {},
    "colab_type": "code",
    "id": "73lsgwCUSVz8"
   },
   "outputs": [],
   "source": [
    "#@markdown ##Formatting the raw read-count matrix into the format that DESeq2 uses\n",
    "\n",
    "%%R\n",
    "dds <- DESeqDataSetFromMatrix(\n",
    "  countData = raw.counts.data$raw.data,\n",
    "  colData = sample.data,\n",
    "  design = ~ condition\n",
    ")"
   ]
  },
  {
   "cell_type": "code",
   "execution_count": null,
   "metadata": {
    "cellView": "form",
    "colab": {
     "base_uri": "https://localhost:8080/",
     "height": 497
    },
    "colab_type": "code",
    "executionInfo": {
     "elapsed": 594,
     "status": "ok",
     "timestamp": 1589846121208,
     "user": {
      "displayName": "my second google account",
      "photoUrl": "",
      "userId": "09709014596244528854"
     },
     "user_tz": 240
    },
    "id": "uaVR-HjtTlKt",
    "outputId": "a27c3473-9225-49b7-db59-882806918e0b"
   },
   "outputs": [],
   "source": [
    "#@markdown ##Plotting sample-wise correlation matrix (using DESeq2-normalized data)\n",
    "%%R\n",
    "plotPheatMap(dds, fromtool=\"deseq\")"
   ]
  },
  {
   "cell_type": "code",
   "execution_count": null,
   "metadata": {
    "cellView": "form",
    "colab": {
     "base_uri": "https://localhost:8080/",
     "height": 977
    },
    "colab_type": "code",
    "executionInfo": {
     "elapsed": 13010,
     "status": "ok",
     "timestamp": 1589846138804,
     "user": {
      "displayName": "my second google account",
      "photoUrl": "",
      "userId": "09709014596244528854"
     },
     "user_tz": 240
    },
    "id": "-S774DTjTpT8",
    "outputId": "a5ec1630-9873-489c-a64c-d4ef6fa2f805"
   },
   "outputs": [],
   "source": [
    "#@markdown ##Plotting the Scree and PC1-vs-PC2 plots to compare samples based on their DESeq2-normalized read counts\n",
    "%%R\n",
    "rld <- rlog(dds, blind=TRUE)\n",
    "prcomp.output <- prcomp(t(assay(rld)))\n",
    "plotScree(prcomp.output)\n",
    "plotPC1vsPC2(prcomp.output, dds)"
   ]
  },
  {
   "cell_type": "code",
   "execution_count": null,
   "metadata": {
    "cellView": "form",
    "colab": {
     "base_uri": "https://localhost:8080/",
     "height": 1000
    },
    "colab_type": "code",
    "executionInfo": {
     "elapsed": 32311,
     "status": "ok",
     "timestamp": 1589846326898,
     "user": {
      "displayName": "my second google account",
      "photoUrl": "",
      "userId": "09709014596244528854"
     },
     "user_tz": 240
    },
    "id": "4dKVZGXoTyZn",
    "outputId": "8a3050df-0ca2-47b4-aeca-e9333df48fb5"
   },
   "outputs": [],
   "source": [
    "#@markdown ##Run DGEA with DESeq2 and plot the rejection curves obtained with DESeq2's independent filtering procedure\n",
    "%%R\n",
    "DESeq2.results <- DESeq2_DGE_analysis( \n",
    "    dds, \n",
    "    fdr, \n",
    "    contrasts, \n",
    "    verbose = FALSE, \n",
    "    chosen_filter = chosen_filter\n",
    ")"
   ]
  },
  {
   "cell_type": "code",
   "execution_count": null,
   "metadata": {
    "cellView": "form",
    "colab": {},
    "colab_type": "code",
    "id": "RsCQj9H1T6-v"
   },
   "outputs": [],
   "source": [
    "#@markdown ##Plotting the Scree and PC1-vs-PC2 plots to compare samples based on their DESeq2-normalized read counts that have passed the independent filtering step\n",
    "%%R\n",
    "DESeq2.normalized.data <- as.data.frame(counts(DESeq2.results$DGE_obj, normalized=TRUE))\n",
    "prcomp.output <- prcomp(t(DESeq2.normalized.data))\n",
    "plotScree(prcomp.output)\n",
    "plotPC1vsPC2(prcomp.output, dds)"
   ]
  },
  {
   "cell_type": "markdown",
   "metadata": {
    "colab_type": "text",
    "id": "-0XtUI1A3Twr"
   },
   "source": [
    "# DGEA with edgeR\n"
   ]
  },
  {
   "cell_type": "code",
   "execution_count": null,
   "metadata": {
    "cellView": "form",
    "colab": {},
    "colab_type": "code",
    "id": "_Yt7_aAVT9AH"
   },
   "outputs": [],
   "source": [
    "#@markdown ##Formatting the raw read-count matrix into the format that edgeR uses\n",
    "%%R\n",
    "dge_obj <- DGEList(\n",
    "  counts=raw.counts.data$raw.data,\n",
    "  group=raw.counts.data$conditions\n",
    ")\n",
    "design <- model.matrix(~0+sample.data$condition)\n",
    "rownames(design) <- row.names(sample.data)\n",
    "colnames(design) <- gsub(\"sample.data.condition\",\"\",colnames(design))"
   ]
  },
  {
   "cell_type": "markdown",
   "metadata": {
    "colab_type": "text",
    "id": "wL8bE0sv3bvj"
   },
   "source": [
    "### We now run DGEA with edgeR, and plot the rejection curves obtained with independent filtering method\n",
    "\n"
   ]
  },
  {
   "cell_type": "code",
   "execution_count": null,
   "metadata": {
    "cellView": "form",
    "colab": {
     "base_uri": "https://localhost:8080/",
     "height": 1000
    },
    "colab_type": "code",
    "executionInfo": {
     "elapsed": 22867,
     "status": "ok",
     "timestamp": 1589846593598,
     "user": {
      "displayName": "my second google account",
      "photoUrl": "",
      "userId": "09709014596244528854"
     },
     "user_tz": 240
    },
    "id": "UpiGHsZ8T_zw",
    "outputId": "b8797d93-532f-4f82-959e-8c13d1dff4b6"
   },
   "outputs": [],
   "source": [
    "#@markdown ##Run DGEA with edgeR and plot the rejection curves obtained with DESeq2's independent filtering procedure\n",
    "%%R\n",
    "edgeR.results <- edgeR_DGE_analysis(\n",
    "    dge_obj, \n",
    "    design, \n",
    "    fdr, \n",
    "    contrasts = contrasts, \n",
    "    verbose = FALSE, \n",
    "    chosen_filter = chosen_filter\n",
    ")"
   ]
  },
  {
   "cell_type": "code",
   "execution_count": null,
   "metadata": {
    "cellView": "form",
    "colab": {
     "base_uri": "https://localhost:8080/",
     "height": 977
    },
    "colab_type": "code",
    "executionInfo": {
     "elapsed": 1249,
     "status": "ok",
     "timestamp": 1589846594917,
     "user": {
      "displayName": "my second google account",
      "photoUrl": "",
      "userId": "09709014596244528854"
     },
     "user_tz": 240
    },
    "id": "NCKXAawNUGut",
    "outputId": "34d0bc95-b8ec-466d-aa4e-d93d70374cf3"
   },
   "outputs": [],
   "source": [
    "#@markdown ##Plotting the Scree and PC1-vs-PC2 plots to compare samples based on their edgeR-normalized read counts that have passed the independent filtering step\n",
    "%%R\n",
    "prcomp.output <- prcomp(t(\n",
    "   t(t(edgeR.results$DGE_obj$pseudo.counts)*(edgeR.results$DGE_obj$samples$norm.factors))\n",
    "))\n",
    "plotScree(prcomp.output)\n",
    "plotPC1vsPC2(prcomp.output, dds)"
   ]
  },
  {
   "cell_type": "markdown",
   "metadata": {
    "colab_type": "text",
    "id": "RXPouaF53qek"
   },
   "source": [
    "## Now we save the results of our DGEA on your Google Drive (for bookkeeping and for downstream analyses)"
   ]
  },
  {
   "cell_type": "code",
   "execution_count": null,
   "metadata": {
    "cellView": "form",
    "colab": {
     "base_uri": "https://localhost:8080/",
     "height": 90
    },
    "colab_type": "code",
    "executionInfo": {
     "elapsed": 6550,
     "status": "ok",
     "timestamp": 1589846632778,
     "user": {
      "displayName": "my second google account",
      "photoUrl": "",
      "userId": "09709014596244528854"
     },
     "user_tz": 240
    },
    "id": "t3yF9fERUJSc",
    "outputId": "6191445c-21d4-4de7-f3fd-61cbd30897c2"
   },
   "outputs": [],
   "source": [
    "#@markdown ## First we want to find the gene symbol that corresponds to each Ensembl ID (since those are the gene identifiers we've been using so far). So the first step is to get that map from Ensembl.\n",
    "%%R\n",
    "symbol.to.id.map <- get.conversion.map(\n",
    "    raw.counts.data,\n",
    "    prefetched_file_name = \"/content/jd-rnaseq-repo/R_code/ensembl_ID_gene_symbol_map_may2020.tsv\"\n",
    ")\n",
    "print(\"Preview:\")\n",
    "head(symbol.to.id.map)"
   ]
  },
  {
   "cell_type": "code",
   "execution_count": null,
   "metadata": {
    "cellView": "both",
    "colab": {
     "base_uri": "https://localhost:8080/",
     "height": 237
    },
    "colab_type": "code",
    "executionInfo": {
     "elapsed": 18191,
     "status": "ok",
     "timestamp": 1589846663086,
     "user": {
      "displayName": "my second google account",
      "photoUrl": "",
      "userId": "09709014596244528854"
     },
     "user_tz": 240
    },
    "id": "ocfWD3Y6UMuU",
    "outputId": "d1b3ecba-4e1a-4226-ec53-f10ae4a3b782"
   },
   "outputs": [],
   "source": [
    "#@markdown ## Finally, we save our DGEA results in a tab-separated file\n",
    "%%R\n",
    "spreadsheet_dir_path <- save.spreadsheet( \n",
    "  DESeq2.results, \n",
    "  edgeR.results, \n",
    "  raw.counts.data, \n",
    "  contrasts, \n",
    "  symbol.to.id.map, \n",
    "  fdr,\n",
    "  prefix, \n",
    "  getwd(), \n",
    "  prefix,\n",
    "  saveoutput = TRUE\n",
    ")"
   ]
  },
  {
   "cell_type": "code",
   "execution_count": null,
   "metadata": {
    "colab": {},
    "colab_type": "code",
    "id": "ATTGSbY2UWQF"
   },
   "outputs": [],
   "source": [
    "# Additional pathway analysis stuff would go here"
   ]
  },
  {
   "cell_type": "markdown",
   "metadata": {
    "colab_type": "text",
    "id": "GMpaGiS74NYd"
   },
   "source": [
    "## Post-DGEA visualizations"
   ]
  },
  {
   "cell_type": "code",
   "execution_count": null,
   "metadata": {
    "cellView": "form",
    "colab": {
     "base_uri": "https://localhost:8080/",
     "height": 394
    },
    "colab_type": "code",
    "executionInfo": {
     "elapsed": 445,
     "status": "error",
     "timestamp": 1589847534462,
     "user": {
      "displayName": "my second google account",
      "photoUrl": "",
      "userId": "09709014596244528854"
     },
     "user_tz": 240
    },
    "id": "1EFVBXed5-14",
    "outputId": "124689bf-3eaf-40ff-9bef-0bc98c350625"
   },
   "outputs": [],
   "source": [
    "#@markdown ## Compare the genes qualified as \"differentially expressed\" by the two tools at different FDRs\n",
    "df_dict = result_comparison.load_files_from_dir(\n",
    "    #\"/content/drive/My Drive/msc-lncrna-project/jd-rnaseq/secondary_analysis/All_RAi_except_RAsA\"\n",
    "    str(rpy2.robjects.r['spreadsheet_dir_path'])[5:-2]\n",
    ")\n",
    "result_comparison.compare_with_max_adjp(df_dict, [0.05, 0.1])"
   ]
  }
 ],
 "metadata": {
  "colab": {
   "collapsed_sections": [],
   "name": "RNASeq_secondary_analysis.ipynb",
   "provenance": [],
   "toc_visible": true
  },
  "kernelspec": {
   "display_name": "Python 3",
   "language": "python",
   "name": "python3"
  },
  "language_info": {
   "codemirror_mode": {
    "name": "ipython",
    "version": 3
   },
   "file_extension": ".py",
   "mimetype": "text/x-python",
   "name": "python",
   "nbconvert_exporter": "python",
   "pygments_lexer": "ipython3",
   "version": "3.7.6"
  }
 },
 "nbformat": 4,
 "nbformat_minor": 1
}
